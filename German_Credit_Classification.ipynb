{
  "nbformat": 4,
  "nbformat_minor": 0,
  "metadata": {
    "colab": {
      "name": "German Credit Classification.ipynb",
      "provenance": [],
      "authorship_tag": "ABX9TyOq1QW1Oz8Tggf1+zX1Qo0k",
      "include_colab_link": true
    },
    "kernelspec": {
      "name": "python3",
      "display_name": "Python 3"
    },
    "language_info": {
      "name": "python"
    }
  },
  "cells": [
    {
      "cell_type": "markdown",
      "metadata": {
        "id": "view-in-github",
        "colab_type": "text"
      },
      "source": [
        "<a href=\"https://colab.research.google.com/github/omkarwazulkar/ImbalancedClassificationProjects/blob/main/German_Credit_Classification.ipynb\" target=\"_parent\"><img src=\"https://colab.research.google.com/assets/colab-badge.svg\" alt=\"Open In Colab\"/></a>"
      ]
    },
    {
      "cell_type": "code",
      "source": [
        "from google.colab import drive\n",
        "drive.mount('/content/drive')"
      ],
      "metadata": {
        "colab": {
          "base_uri": "https://localhost:8080/"
        },
        "id": "Hr71w0YxkAW-",
        "outputId": "db31b71d-3e9b-4dd3-dc57-f0c0dd6927b2"
      },
      "execution_count": null,
      "outputs": [
        {
          "output_type": "stream",
          "name": "stdout",
          "text": [
            "Mounted at /content/drive\n"
          ]
        }
      ]
    },
    {
      "cell_type": "code",
      "source": [
        "path = '/content/drive/MyDrive/Dataset/Datasets/german.csv'"
      ],
      "metadata": {
        "id": "BiscwwSDkCwj"
      },
      "execution_count": null,
      "outputs": []
    },
    {
      "cell_type": "code",
      "source": [
        "from pandas import read_csv\n",
        "\n",
        "dataframe = read_csv(path, header = None)\n",
        "print(dataframe.shape)"
      ],
      "metadata": {
        "colab": {
          "base_uri": "https://localhost:8080/"
        },
        "id": "RfU87UfTkPAE",
        "outputId": "07d9410c-ed86-4ba7-82f7-47529e87fb44"
      },
      "execution_count": null,
      "outputs": [
        {
          "output_type": "stream",
          "name": "stdout",
          "text": [
            "(1000, 21)\n"
          ]
        }
      ]
    },
    {
      "cell_type": "code",
      "source": [
        "from collections import Counter\n",
        "\n",
        "target = dataframe.values[:, -1]\n",
        "counter = Counter(target)\n",
        "for k, v in counter.items():\n",
        "  per = v / len(target) * 100\n",
        "  print(\"Class : %d Count : %d Percentage : %d \" % (k, v, per))"
      ],
      "metadata": {
        "colab": {
          "base_uri": "https://localhost:8080/"
        },
        "id": "SlqHOSYWkjbg",
        "outputId": "956b1300-03bd-46e2-b35c-bc9022b20974"
      },
      "execution_count": null,
      "outputs": [
        {
          "output_type": "stream",
          "name": "stdout",
          "text": [
            "Class : 1 Count : 700 Percentage : 70 \n",
            "Class : 2 Count : 300 Percentage : 30 \n"
          ]
        }
      ]
    },
    {
      "cell_type": "code",
      "source": [
        "num_col = dataframe.select_dtypes(include = ['int64', 'float64']).columns\n",
        "subset = dataframe[num_col]"
      ],
      "metadata": {
        "id": "LjeeV-YllNDV"
      },
      "execution_count": null,
      "outputs": []
    },
    {
      "cell_type": "code",
      "source": [
        "from matplotlib import pyplot\n",
        "\n",
        "histo = subset.hist()\n",
        "for axis in histo.flatten():\n",
        "  axis.set_xticklabels([])\n",
        "  axis.set_yticklabels([])\n",
        "pyplot.show()"
      ],
      "metadata": {
        "colab": {
          "base_uri": "https://localhost:8080/",
          "height": 268
        },
        "id": "bDtguWmoloay",
        "outputId": "ecf84327-a21d-4e14-ad39-5a78bbdccc9a"
      },
      "execution_count": null,
      "outputs": [
        {
          "output_type": "display_data",
          "data": {
            "image/png": "[encoded data removed]",
            "text/plain": [
              "<Figure size 432x288 with 9 Axes>"
            ]
          },
          "metadata": {
            "needs_background": "light"
          }
        }
      ]
    },
    {
      "cell_type": "code",
      "source": [
        "last_col = len(dataframe.columns) - 1\n",
        "X, y = dataframe.drop(last_col, axis = 1), dataframe[last_col]\n",
        "print(X, y)"
      ],
      "metadata": {
        "colab": {
          "base_uri": "https://localhost:8080/"
        },
        "id": "7YZul7zdmCsc",
        "outputId": "a83d3a77-b730-4938-b0a1-1647bb8d3523"
      },
      "execution_count": null,
      "outputs": [
        {
          "output_type": "stream",
          "name": "stdout",
          "text": [
            "      0   1    2    3     4    5    6   ...    13    14 15    16 17    18    19\n",
            "0    A11   6  A34  A43  1169  A65  A75  ...  A143  A152  2  A173  1  A192  A201\n",
            "1    A12  48  A32  A43  5951  A61  A73  ...  A143  A152  1  A173  1  A191  A201\n",
            "2    A14  12  A34  A46  2096  A61  A74  ...  A143  A152  1  A172  2  A191  A201\n",
            "3    A11  42  A32  A42  7882  A61  A74  ...  A143  A153  1  A173  2  A191  A201\n",
            "4    A11  24  A33  A40  4870  A61  A73  ...  A143  A153  2  A173  2  A191  A201\n",
            "..   ...  ..  ...  ...   ...  ...  ...  ...   ...   ... ..   ... ..   ...   ...\n",
            "995  A14  12  A32  A42  1736  A61  A74  ...  A143  A152  1  A172  1  A191  A201\n",
            "996  A11  30  A32  A41  3857  A61  A73  ...  A143  A152  1  A174  1  A192  A201\n",
            "997  A14  12  A32  A43   804  A61  A75  ...  A143  A152  1  A173  1  A191  A201\n",
            "998  A11  45  A32  A43  1845  A61  A73  ...  A143  A153  1  A173  1  A192  A201\n",
            "999  A12  45  A34  A41  4576  A62  A71  ...  A143  A152  1  A173  1  A191  A201\n",
            "\n",
            "[1000 rows x 20 columns] 0      1\n",
            "1      2\n",
            "2      1\n",
            "3      1\n",
            "4      2\n",
            "      ..\n",
            "995    1\n",
            "996    1\n",
            "997    1\n",
            "998    2\n",
            "999    1\n",
            "Name: 20, Length: 1000, dtype: int64\n"
          ]
        }
      ]
    },
    {
      "cell_type": "code",
      "source": [
        "from sklearn.preprocessing import OneHotEncoder\n",
        "from sklearn.compose import ColumnTransformer\n",
        "\n",
        "cat_ix = X.select_dtypes(include=['object', 'bool']).columns\n",
        "ct = ColumnTransformer([('o',OneHotEncoder(),cat_ix)], remainder='passthrough')\n",
        "X = ct.fit_transform(X)"
      ],
      "metadata": {
        "id": "-PxaT5Y6m3qS"
      },
      "execution_count": null,
      "outputs": []
    },
    {
      "cell_type": "code",
      "source": [
        "print(X)"
      ],
      "metadata": {
        "colab": {
          "base_uri": "https://localhost:8080/"
        },
        "id": "wJD2t9o3oVq6",
        "outputId": "72246e7f-469e-462a-91f0-04a8211a4367"
      },
      "execution_count": null,
      "outputs": [
        {
          "output_type": "stream",
          "name": "stdout",
          "text": [
            "[[ 1.  0.  0. ... 67.  2.  1.]\n",
            " [ 0.  1.  0. ... 22.  1.  1.]\n",
            " [ 0.  0.  0. ... 49.  1.  2.]\n",
            " ...\n",
            " [ 0.  0.  0. ... 38.  1.  1.]\n",
            " [ 1.  0.  0. ... 23.  1.  1.]\n",
            " [ 0.  1.  0. ... 27.  1.  1.]]\n"
          ]
        }
      ]
    },
    {
      "cell_type": "code",
      "source": [
        "from sklearn.preprocessing import LabelEncoder\n",
        "\n",
        "y = LabelEncoder().fit_transform(y)"
      ],
      "metadata": {
        "id": "RIsO3r3hoYjZ"
      },
      "execution_count": null,
      "outputs": []
    },
    {
      "cell_type": "code",
      "source": [
        "print(y)"
      ],
      "metadata": {
        "colab": {
          "base_uri": "https://localhost:8080/"
        },
        "id": "sUFUgajComRY",
        "outputId": "92ef3802-6e24-4088-fb1f-27468463d824"
      },
      "execution_count": null,
      "outputs": [
        {
          "output_type": "stream",
          "name": "stdout",
          "text": [
            "[0 1 0 0 1 0 0 0 0 1 1 1 0 1 0 1 0 0 1 0 0 0 0 0 0 0 0 0 0 1 0 0 0 0 0 1 0\n",
            " 1 0 0 0 0 0 0 1 0 0 0 0 0 0 0 0 0 1 0 1 0 0 1 0 0 1 1 0 0 0 0 1 0 0 0 0 0\n",
            " 1 0 1 0 0 0 1 0 0 0 0 0 0 1 0 1 0 0 1 0 0 1 0 0 0 0 0 0 0 0 0 1 1 0 0 0 0\n",
            " 0 0 1 0 0 1 0 1 0 1 0 0 0 1 0 0 1 0 1 0 1 0 0 0 0 0 1 0 0 0 0 0 1 0 0 0 0\n",
            " 0 0 0 0 0 0 0 1 0 0 0 0 0 0 0 0 0 0 1 0 0 1 1 0 1 0 1 1 0 0 0 0 1 1 1 0 1\n",
            " 0 1 0 1 0 1 1 1 0 1 1 0 1 0 1 0 0 0 1 0 0 0 0 0 0 0 0 1 1 0 0 0 0 0 0 0 0\n",
            " 0 0 0 0 1 1 1 0 1 0 0 0 0 1 1 1 0 0 1 0 1 0 0 0 0 0 0 1 0 0 1 0 0 0 0 1 0\n",
            " 0 0 0 0 0 0 1 0 0 1 0 0 0 0 1 1 0 0 0 1 0 0 0 0 0 0 0 0 0 0 1 0 1 0 0 0 1\n",
            " 0 0 0 0 0 1 1 0 1 0 0 1 1 0 0 0 0 1 0 1 0 0 0 0 1 1 0 0 0 0 0 0 0 0 0 1 1\n",
            " 1 1 1 0 1 0 0 0 0 0 0 0 0 0 0 0 1 0 1 0 1 0 1 0 1 0 1 0 0 0 0 1 0 0 0 1 0\n",
            " 0 0 0 0 1 1 0 0 1 0 0 1 0 0 0 0 0 0 0 0 0 0 0 0 0 0 0 0 1 0 0 0 1 0 0 1 0\n",
            " 0 0 1 0 0 1 0 1 0 1 0 0 1 0 0 0 0 1 0 0 0 0 1 0 1 0 0 0 1 0 0 0 1 0 0 0 1\n",
            " 1 0 1 0 0 1 0 0 0 0 1 0 0 1 0 0 0 0 0 0 0 0 1 0 0 0 1 1 1 0 1 1 0 0 0 0 0\n",
            " 0 0 0 0 1 0 0 0 0 0 1 0 0 0 1 1 0 0 0 1 0 0 1 1 1 0 1 0 0 1 0 0 0 0 0 0 1\n",
            " 0 0 0 1 1 0 0 0 0 0 1 0 0 1 0 0 0 1 0 0 1 0 1 0 1 1 0 1 0 0 1 0 0 0 1 0 0\n",
            " 1 1 1 1 1 0 1 0 1 0 0 1 0 0 1 1 0 0 0 0 0 0 0 1 0 1 0 0 1 0 1 0 0 1 1 0 0\n",
            " 0 1 1 1 1 1 1 0 0 1 1 1 0 0 0 1 0 0 1 1 0 0 1 0 0 0 1 0 0 1 1 0 1 0 0 1 0\n",
            " 0 0 1 0 1 1 0 0 0 0 1 1 0 1 0 0 1 0 1 1 1 0 1 1 1 0 0 1 0 0 0 0 1 0 0 0 0\n",
            " 0 0 1 0 0 0 0 0 1 0 0 1 0 0 0 0 0 0 0 0 0 0 0 0 0 0 0 0 0 0 0 0 0 0 1 1 0\n",
            " 0 0 0 1 1 0 0 0 1 0 0 1 0 0 0 0 0 1 1 1 0 1 0 0 1 1 0 0 1 0 0 0 0 1 0 0 1\n",
            " 0 0 0 0 0 0 0 1 0 0 0 1 0 0 1 1 0 1 0 1 0 1 0 1 0 0 1 0 0 0 0 1 0 0 0 1 0\n",
            " 0 0 0 1 0 0 1 0 0 0 0 1 1 1 0 0 0 0 0 1 0 0 0 0 0 0 0 0 1 0 0 0 1 0 0 1 1\n",
            " 1 0 0 0 0 1 0 0 1 0 0 0 1 1 1 0 0 1 1 0 1 1 0 0 0 0 1 0 1 0 0 0 1 0 0 1 1\n",
            " 0 0 1 0 0 0 0 1 0 0 1 1 0 1 0 0 0 0 0 0 0 0 0 0 0 0 0 1 0 0 0 0 0 1 1 0 1\n",
            " 0 0 0 0 0 0 0 0 0 0 0 1 1 0 0 0 0 0 0 0 0 0 0 1 0 0 1 1 0 1 1 1 0 0 1 0 1\n",
            " 1 0 1 0 0 0 1 0 0 0 1 1 0 1 0 0 0 0 0 0 0 1 0 1 1 0 1 1 1 0 0 0 0 1 0 0 0\n",
            " 0 1 0 0 1 0 0 0 0 0 1 1 0 0 0 0 1 1 1 1 0 1 0 0 0 0 0 0 0 0 0 0 0 0 0 0 1\n",
            " 0]\n"
          ]
        }
      ]
    },
    {
      "cell_type": "code",
      "source": [
        "# Combines the above steps in one load_dataset function\n",
        "\n",
        "def load_dataset(full_path):\n",
        "  dataframe = read_csv(full_path, header=None)\n",
        "  last_ix = len(dataframe.columns) - 1\n",
        "  X, y = dataframe.drop(last_ix, axis=1), dataframe[last_ix]\n",
        "  cat_ix = X.select_dtypes(include=['object', 'bool']).columns\n",
        "  ct = ColumnTransformer([('o',OneHotEncoder(),cat_ix)], remainder='passthrough')\n",
        "  y = LabelEncoder().fit_transform(y)\n",
        "  return X, y"
      ],
      "metadata": {
        "id": "Voyx_SAooodf"
      },
      "execution_count": null,
      "outputs": []
    },
    {
      "cell_type": "code",
      "source": [
        "from sklearn.metrics import fbeta_score\n",
        "\n",
        "def f2_measure(y_true, y_pred):\n",
        "  return fbeta_score(y_true, y_pred, beta = 2)"
      ],
      "metadata": {
        "id": "PG8CU5Zqo6Rw"
      },
      "execution_count": null,
      "outputs": []
    },
    {
      "cell_type": "code",
      "source": [
        "from sklearn.model_selection import cross_val_score\n",
        "from sklearn.model_selection import RepeatedStratifiedKFold\n",
        "from sklearn.metrics import make_scorer\n",
        "\n",
        "def evaluate_model(X, y, model):\n",
        "  cv =  RepeatedStratifiedKFold(n_splits = 10, n_repeats = 3, random_state = 1)\n",
        "  metric = make_scorer(f2_measure)\n",
        "  scores = cross_val_score(model, X, y, scoring = metric, cv = cv, n_jobs = 1)\n",
        "  return scores"
      ],
      "metadata": {
        "id": "v8JMyXB5pPfn"
      },
      "execution_count": null,
      "outputs": []
    },
    {
      "cell_type": "code",
      "source": [
        "from sklearn.dummy import DummyClassifier\n",
        "from numpy import std\n",
        "from numpy import mean\n",
        "\n",
        "X, y = load_dataset(path)\n",
        "print(X.shape, y.shape, Counter(y))\n",
        "model = DummyClassifier(strategy = 'constant', constant = 1)\n",
        "scores = evaluate_model(X, y, model)\n",
        "print(\"Mean F2 : %.3f (%.3f) \" % (mean(scores), std(scores)))"
      ],
      "metadata": {
        "colab": {
          "base_uri": "https://localhost:8080/"
        },
        "id": "KAddApH3p_DA",
        "outputId": "fbe4ad77-78e1-493b-ea86-3ddcf5abad59"
      },
      "execution_count": null,
      "outputs": [
        {
          "output_type": "stream",
          "name": "stdout",
          "text": [
            "(1000, 20) (1000,) Counter({0: 700, 1: 300})\n",
            "Mean F2 : 0.682 (0.000) \n"
          ]
        }
      ]
    },
    {
      "cell_type": "code",
      "source": [
        "# Models \n",
        "from sklearn.linear_model import LogisticRegression\n",
        "from sklearn.discriminant_analysis import LinearDiscriminantAnalysis\n",
        "from sklearn.naive_bayes import GaussianNB\n",
        "from sklearn.gaussian_process import GaussianProcessClassifier\n",
        "from sklearn.svm import SVC\n",
        "\n",
        "def get_models():\n",
        "  models, names = list(), list()\n",
        "  # LR\n",
        "  models.append(LogisticRegression(solver='liblinear'))\n",
        "  names.append('LR')\n",
        "  # LDA\n",
        "  models.append(LinearDiscriminantAnalysis())\n",
        "  names.append('LDA')\n",
        "  # NB\n",
        "  models.append(GaussianNB())\n",
        "  names.append('NB')\n",
        "  # GPC\n",
        "  models.append(GaussianProcessClassifier())\n",
        "  names.append('GPC')\n",
        "  # SVM\n",
        "  models.append(SVC(gamma='scale'))\n",
        "  names.append('SVM')\n",
        "  return models, names"
      ],
      "metadata": {
        "id": "jL7MPCuYqVR3"
      },
      "execution_count": null,
      "outputs": []
    },
    {
      "cell_type": "code",
      "source": [
        "def load_dataset(full_path):\n",
        "  dataframe = read_csv(full_path, header=None)\n",
        "  last_ix = len(dataframe.columns) - 1\n",
        "  X, y = dataframe.drop(last_ix, axis=1), dataframe[last_ix]\n",
        "  cat_ix = X.select_dtypes(include=['object', 'bool']).columns\n",
        "  num_ix = X.select_dtypes(include=['int64', 'float64']).columns\n",
        "  y = LabelEncoder().fit_transform(y)\n",
        "  return X.values, y, cat_ix, num_ix"
      ],
      "metadata": {
        "id": "O4rFJoD4rPJd"
      },
      "execution_count": null,
      "outputs": []
    },
    {
      "cell_type": "code",
      "source": [
        "from sklearn.preprocessing import MinMaxScaler\n",
        "from sklearn.pipeline import Pipeline\n",
        "\n",
        "X, y, cat_ix, num_ix = load_dataset(path)\n",
        "models, names = get_models()\n",
        "results = list()\n",
        "\n",
        "for i in range(len(models)):\n",
        "  ct = ColumnTransformer([('c',OneHotEncoder(),cat_ix), ('n',MinMaxScaler(),num_ix)])\n",
        "  pipeline = Pipeline(steps=[('t',ct),('m',models[i])])\n",
        "  scores = evaluate_model(X, y, pipeline)\n",
        "  print('>%s %.3f (%.3f)' % (names[i], mean(scores), std(scores)))"
      ],
      "metadata": {
        "colab": {
          "base_uri": "https://localhost:8080/"
        },
        "id": "oHALye-srqsB",
        "outputId": "c6d089f2-25cc-4f73-e437-aadcf0e138e6"
      },
      "execution_count": null,
      "outputs": [
        {
          "output_type": "stream",
          "name": "stdout",
          "text": [
            ">LR 0.498 (0.072)\n",
            ">LDA 0.519 (0.072)\n",
            ">NB 0.639 (0.049)\n",
            ">GPC 0.219 (0.061)\n",
            ">SVM 0.436 (0.077)\n"
          ]
        }
      ]
    },
    {
      "cell_type": "code",
      "source": [
        "from imblearn.under_sampling import TomekLinks\n",
        "from imblearn.under_sampling import EditedNearestNeighbours\n",
        "from imblearn.under_sampling import RepeatedEditedNearestNeighbours\n",
        "from imblearn.under_sampling import NeighbourhoodCleaningRule\n",
        "from imblearn.under_sampling import OneSidedSelection\n",
        "\n",
        "def get_models():\n",
        "  models, names = list(), list()\n",
        "  # TL\n",
        "  models.append(TomekLinks())\n",
        "  names.append('TL')\n",
        "  # ENN\n",
        "  models.append(EditedNearestNeighbours())\n",
        "  names.append('ENN')\n",
        "  # RENN\n",
        "  models.append(RepeatedEditedNearestNeighbours())\n",
        "  names.append('RENN')\n",
        "  # OSS\n",
        "  models.append(OneSidedSelection())\n",
        "  names.append('OSS')\n",
        "  # NCR\n",
        "  models.append(NeighbourhoodCleaningRule())\n",
        "  names.append('NCR')\n",
        "  return models, names"
      ],
      "metadata": {
        "id": "lh6fmSjvss3h"
      },
      "execution_count": null,
      "outputs": []
    },
    {
      "cell_type": "code",
      "source": [
        "from imblearn.pipeline import Pipeline\n",
        "\n",
        "models, names = get_models()\n",
        "results = list()\n",
        "\n",
        "for i in range(len(models)):\n",
        "  model = LogisticRegression(solver='liblinear', class_weight='balanced')\n",
        "  ct = ColumnTransformer([('c',OneHotEncoder(),cat_ix), ('n',MinMaxScaler(),num_ix)])\n",
        "  pipeline = Pipeline(steps=[('t',ct), ('s', models[i]), ('m',model)])\n",
        "  scores = evaluate_model(X, y, pipeline)\n",
        "  results.append(scores)\n",
        "  print('>%s %.3f (%.3f)' % (names[i], mean(scores), std(scores)))\n",
        "  # plot the results\n",
        "pyplot.boxplot(results, labels=names, showmeans=True)\n",
        "pyplot.show()"
      ],
      "metadata": {
        "colab": {
          "base_uri": "https://localhost:8080/",
          "height": 352
        },
        "id": "eyREvdixs2XT",
        "outputId": "efcd9721-b7c9-4f8d-e3dc-4d99274fa09c"
      },
      "execution_count": null,
      "outputs": [
        {
          "output_type": "stream",
          "name": "stdout",
          "text": [
            ">TL 0.669 (0.057)\n",
            ">ENN 0.706 (0.048)\n",
            ">RENN 0.714 (0.041)\n",
            ">OSS 0.669 (0.056)\n",
            ">NCR 0.693 (0.052)\n"
          ]
        },
        {
          "output_type": "display_data",
          "data": {
            "image/png": "[encoded data removed]",
            "text/plain": [
              "<Figure size 432x288 with 1 Axes>"
            ]
          },
          "metadata": {
            "needs_background": "light"
          }
        }
      ]
    },
    {
      "cell_type": "code",
      "source": [
        "# Finalised Model : RENN\n",
        "\n",
        "X, y, cat_ix, num_ix = load_dataset(path)\n",
        "model = LogisticRegression(solver='liblinear', class_weight='balanced')\n",
        "ct = ColumnTransformer([('c',OneHotEncoder(),cat_ix), ('n',MinMaxScaler(),num_ix)])\n",
        "pipeline = Pipeline(steps=[('t',ct), ('s', RepeatedEditedNearestNeighbours()), ('m',model)])\n",
        "pipeline.fit(X, y)"
      ],
      "metadata": {
        "colab": {
          "base_uri": "https://localhost:8080/"
        },
        "id": "NVw0ctvqt0ZJ",
        "outputId": "2182220c-a18b-4550-846f-5df364a40b0a"
      },
      "execution_count": null,
      "outputs": [
        {
          "output_type": "execute_result",
          "data": {
            "text/plain": [
              "Pipeline(steps=[('t',\n",
              "                 ColumnTransformer(transformers=[('c', OneHotEncoder(),\n",
              "                                                  Int64Index([0, 2, 3, 5, 6, 8, 9, 11, 13, 14, 16, 18, 19], dtype='int64')),\n",
              "                                                 ('n', MinMaxScaler(),\n",
              "                                                  Int64Index([1, 4, 7, 10, 12, 15, 17], dtype='int64'))])),\n",
              "                ('s', RepeatedEditedNearestNeighbours()),\n",
              "                ('m',\n",
              "                 LogisticRegression(class_weight='balanced',\n",
              "                                    solver='liblinear'))])"
            ]
          },
          "metadata": {},
          "execution_count": 43
        }
      ]
    },
    {
      "cell_type": "code",
      "source": [
        "print('Good Customers:')\n",
        "data = [['A11', 6, 'A34', 'A43', 1169, 'A65', 'A75', 4, 'A93', 'A101', 4, 'A121', 67,\n",
        "         'A143', 'A152', 2, 'A173', 1, 'A192', 'A201'],\n",
        "        ['A14', 12, 'A34', 'A46', 2096, 'A61', 'A74', 2, 'A93', 'A101', 3, 'A121', 49, 'A143',\n",
        "        'A152', 1, 'A172', 2, 'A191', 'A201'],\n",
        "        ['A11', 42, 'A32', 'A42', 7882, 'A61', 'A74', 2, 'A93', 'A103', 4, 'A122', 45, 'A143',\n",
        "        'A153', 1, 'A173', 2, 'A191', 'A201']]\n",
        "for row in data:\n",
        "  yhat = pipeline.predict([row])\n",
        "  label = yhat[0]\n",
        "  print('>Predicted=%d (expected 0)' % (label))"
      ],
      "metadata": {
        "colab": {
          "base_uri": "https://localhost:8080/"
        },
        "id": "AlGlc-gzuSQf",
        "outputId": "43c6a712-9980-4b4a-cc42-56065ef1dc20"
      },
      "execution_count": null,
      "outputs": [
        {
          "output_type": "stream",
          "name": "stdout",
          "text": [
            "Good Customers:\n",
            ">Predicted=0 (expected 0)\n",
            ">Predicted=0 (expected 0)\n",
            ">Predicted=1 (expected 0)\n"
          ]
        }
      ]
    },
    {
      "cell_type": "code",
      "source": [
        "print('Bad Customers:')\n",
        "data = [['A13', 18, 'A32', 'A43', 2100, 'A61', 'A73', 4, 'A93', 'A102', 2, 'A121', 37,\n",
        "        'A142', 'A152', 1, 'A173', 1, 'A191', 'A201'],\n",
        "        ['A11', 24, 'A33', 'A40', 4870, 'A61', 'A73', 3, 'A93', 'A101', 4, 'A124', 53, 'A143',\n",
        "        'A153', 2, 'A173', 2, 'A191', 'A201'],\n",
        "        ['A11', 24, 'A32', 'A43', 1282, 'A62', 'A73', 4, 'A92', 'A101', 2, 'A123', 32, 'A143',\n",
        "        'A152', 1, 'A172', 1, 'A191', 'A201']]\n",
        "for row in data:\n",
        "  yhat = pipeline.predict([row])\n",
        "  label = yhat[0]\n",
        "  print('>Predicted=%d (expected 1)' % (label))"
      ],
      "metadata": {
        "colab": {
          "base_uri": "https://localhost:8080/"
        },
        "id": "etc-G_iAumGF",
        "outputId": "600385eb-cdbd-4298-c374-98b477a93f88"
      },
      "execution_count": null,
      "outputs": [
        {
          "output_type": "stream",
          "name": "stdout",
          "text": [
            "Bad Customers:\n",
            ">Predicted=1 (expected 1)\n",
            ">Predicted=1 (expected 1)\n",
            ">Predicted=1 (expected 1)\n"
          ]
        }
      ]
    }
  ]
}