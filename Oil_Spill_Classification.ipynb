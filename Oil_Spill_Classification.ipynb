{
  "nbformat": 4,
  "nbformat_minor": 0,
  "metadata": {
    "colab": {
      "name": "Oil Spill Classification.ipynb",
      "provenance": [],
      "mount_file_id": "1N21MFX1-LtskAiHRJfoDTsjWqjP5_uvr",
      "authorship_tag": "ABX9TyOyWR0Tj3iYfW9p4fs6kAAa",
      "include_colab_link": true
    },
    "kernelspec": {
      "name": "python3",
      "display_name": "Python 3"
    },
    "language_info": {
      "name": "python"
    }
  },
  "cells": [
    {
      "cell_type": "markdown",
      "metadata": {
        "id": "view-in-github",
        "colab_type": "text"
      },
      "source": [
        "<a href=\"https://colab.research.google.com/github/omkarwazulkar/ImbalancedClassificationProjects/blob/main/Oil_Spill_Classification.ipynb\" target=\"_parent\"><img src=\"https://colab.research.google.com/assets/colab-badge.svg\" alt=\"Open In Colab\"/></a>"
      ]
    },
    {
      "cell_type": "code",
      "execution_count": null,
      "metadata": {
        "colab": {
          "base_uri": "https://localhost:8080/"
        },
        "id": "tQmwtIlzWnDi",
        "outputId": "eb662e58-d2d8-4da2-c1e0-682fb6776860"
      },
      "outputs": [
        {
          "output_type": "stream",
          "name": "stdout",
          "text": [
            "(937, 50)\n"
          ]
        }
      ],
      "source": [
        "from pandas import read_csv\n",
        "\n",
        "path = '/content/drive/MyDrive/Dataset/Datasets/oil-spill.csv'\n",
        "dataframe = read_csv(path, header=None)\n",
        "print(dataframe.shape)"
      ]
    },
    {
      "cell_type": "code",
      "source": [
        "# Summarize \n",
        "from collections import Counter\n",
        "\n",
        "target = dataframe.values[:,-1]\n",
        "counter = Counter(target)\n",
        "for k,v in counter.items():\n",
        "  per = v / len(target) * 100\n",
        "  print('Class=%d, Count=%d, Percentage=%.3f%%' % (k, v, per))"
      ],
      "metadata": {
        "colab": {
          "base_uri": "https://localhost:8080/"
        },
        "id": "-DXsuq64W0yy",
        "outputId": "21ae2209-1b28-4335-f6ce-1e0035e09b5a"
      },
      "execution_count": null,
      "outputs": [
        {
          "output_type": "stream",
          "name": "stdout",
          "text": [
            "Class=1, Count=41, Percentage=4.376%\n",
            "Class=0, Count=896, Percentage=95.624%\n"
          ]
        }
      ]
    },
    {
      "cell_type": "code",
      "source": [
        "from matplotlib import pyplot\n",
        "\n",
        "ax = dataframe.hist()\n",
        "for axis in ax.flatten():\n",
        "  axis.set_title('')\n",
        "  axis.set_xticklabels([])\n",
        "  axis.set_yticklabels([])\n",
        "pyplot.show()"
      ],
      "metadata": {
        "colab": {
          "base_uri": "https://localhost:8080/",
          "height": 252
        },
        "id": "pyeSD-2nXMlB",
        "outputId": "4511dc48-df0f-4afa-d306-59d531b15098"
      },
      "execution_count": null,
      "outputs": [
        {
          "output_type": "display_data",
          "data": {
            "image/png": "[encoded data removed]",
            "text/plain": [
              "<Figure size 432x288 with 56 Axes>"
            ]
          },
          "metadata": {
            "needs_background": "light"
          }
        }
      ]
    },
    {
      "cell_type": "code",
      "source": [
        "report = dataframe.describe()\n",
        "print(report)"
      ],
      "metadata": {
        "colab": {
          "base_uri": "https://localhost:8080/"
        },
        "id": "HxHnPALWXZtC",
        "outputId": "b882deed-edb8-412c-b9a4-ac12d6d0479d"
      },
      "execution_count": null,
      "outputs": [
        {
          "output_type": "stream",
          "name": "stdout",
          "text": [
            "               0             1   ...          48          49\n",
            "count  937.000000    937.000000  ...  937.000000  937.000000\n",
            "mean    81.588047    332.842049  ...    8.119723    0.043757\n",
            "std     64.976730   1931.938570  ...    2.908895    0.204662\n",
            "min      1.000000     10.000000  ...    5.810000    0.000000\n",
            "25%     31.000000     20.000000  ...    6.340000    0.000000\n",
            "50%     64.000000     65.000000  ...    7.220000    0.000000\n",
            "75%    124.000000    132.000000  ...    7.840000    0.000000\n",
            "max    352.000000  32389.000000  ...   15.440000    1.000000\n",
            "\n",
            "[8 rows x 50 columns]\n"
          ]
        }
      ]
    },
    {
      "cell_type": "code",
      "source": [
        "path = '/content/drive/MyDrive/Dataset/Datasets/oil-spill.csv'"
      ],
      "metadata": {
        "id": "B3TUBeERY_xs"
      },
      "execution_count": null,
      "outputs": []
    },
    {
      "cell_type": "code",
      "source": [
        "# Load Dataset Function\n",
        "from pandas import read_csv\n",
        "from sklearn.preprocessing import LabelEncoder\n",
        "\n",
        "def load_dataset(full_path):\n",
        "  data = read_csv(full_path, header=None)\n",
        "  data.drop(22, axis=1, inplace=True)\n",
        "  data.drop(0, axis=1, inplace=True)\n",
        "  data = data.values\n",
        "  X, y = data[:, :-1], data[:, -1]\n",
        "  y = LabelEncoder().fit_transform(y)\n",
        "  return X, y"
      ],
      "metadata": {
        "id": "eQPlqzmiXpey"
      },
      "execution_count": null,
      "outputs": []
    },
    {
      "cell_type": "code",
      "source": [
        "from sklearn.model_selection import cross_val_score\n",
        "from sklearn.model_selection import RepeatedStratifiedKFold\n",
        "from sklearn.metrics import make_scorer\n",
        "from imblearn.metrics import geometric_mean_score\n",
        "\n",
        "def evaluate_model(X, y, model):\n",
        "  cv = RepeatedStratifiedKFold(n_splits=10, n_repeats=3, random_state=1)\n",
        "  metric = make_scorer(geometric_mean_score)\n",
        "  scores = cross_val_score(model, X, y, scoring=metric, cv=cv, n_jobs=-1)\n",
        "  return scores"
      ],
      "metadata": {
        "id": "kw68_s2fX2Ps"
      },
      "execution_count": null,
      "outputs": []
    },
    {
      "cell_type": "code",
      "source": [
        "from numpy import std\n",
        "from numpy import mean\n",
        "from sklearn.dummy import DummyClassifier\n",
        "\n",
        "X, y = load_dataset(path)\n",
        "print(X.shape, y.shape, Counter(y))\n",
        "model = DummyClassifier(strategy='uniform')\n",
        "scores = evaluate_model(X, y, model)\n",
        "print('Mean G-Mean: %.3f (%.3f)' % (mean(scores), std(scores)))"
      ],
      "metadata": {
        "colab": {
          "base_uri": "https://localhost:8080/"
        },
        "id": "u5IiMDD7YAV6",
        "outputId": "cfbd4e3a-6147-4ce4-f6a0-2b79bf75e8ca"
      },
      "execution_count": null,
      "outputs": [
        {
          "output_type": "stream",
          "name": "stdout",
          "text": [
            "(937, 47) (937,) Counter({0: 896, 1: 41})\n",
            "Mean G-Mean: 0.482 (0.152)\n"
          ]
        }
      ]
    },
    {
      "cell_type": "code",
      "source": [
        "from sklearn.linear_model import LogisticRegression\n",
        "from sklearn.discriminant_analysis import LinearDiscriminantAnalysis\n",
        "from sklearn.naive_bayes import GaussianNB\n",
        "from sklearn.pipeline import Pipeline\n",
        "from sklearn.preprocessing import StandardScaler\n",
        "\n",
        "def get_models():\n",
        "  models, names = list(), list()\n",
        "  # LR\n",
        "  steps = [('t',StandardScaler()),('m',LogisticRegression(solver='liblinear'))]\n",
        "  models.append(Pipeline(steps=steps))\n",
        "  names.append('LR')\n",
        "  # LDA\n",
        "  steps = [('t', StandardScaler()),('m',LinearDiscriminantAnalysis())]\n",
        "  models.append(Pipeline(steps=steps))\n",
        "  names.append('LDA')\n",
        "  # NB\n",
        "  models.append(GaussianNB())\n",
        "  names.append('NB')\n",
        "  return models, names"
      ],
      "metadata": {
        "id": "t7R-8lPxZsfY"
      },
      "execution_count": null,
      "outputs": []
    },
    {
      "cell_type": "code",
      "source": [
        "models, names = get_models()\n",
        "results = list()\n",
        "for i in range(len(models)):\n",
        "  scores = evaluate_model(X, y, models[i])\n",
        "  results.append(scores)\n",
        "  print('>%s %.3f (%.3f)' % (names[i], mean(scores), std(scores)))"
      ],
      "metadata": {
        "colab": {
          "base_uri": "https://localhost:8080/"
        },
        "id": "cPUJU1dEZ85W",
        "outputId": "8d058dea-4a5f-42e3-93a8-9674e27922c2"
      },
      "execution_count": null,
      "outputs": [
        {
          "output_type": "stream",
          "name": "stdout",
          "text": [
            ">LR 0.672 (0.203)\n",
            ">LDA 0.755 (0.147)\n",
            ">NB 0.707 (0.202)\n"
          ]
        }
      ]
    },
    {
      "cell_type": "code",
      "source": [
        "pyplot.boxplot(results, labels=names, showmeans=True)\n",
        "pyplot.show()"
      ],
      "metadata": {
        "colab": {
          "base_uri": "https://localhost:8080/",
          "height": 265
        },
        "id": "xvDAQ0gZaAnp",
        "outputId": "a9c8973b-cb6e-4474-9f31-7312f146e3c8"
      },
      "execution_count": null,
      "outputs": [
        {
          "output_type": "display_data",
          "data": {
            "image/png": "[encoded data removed]",
            "text/plain": [
              "<Figure size 432x288 with 1 Axes>"
            ]
          },
          "metadata": {
            "needs_background": "light"
          }
        }
      ]
    },
    {
      "cell_type": "code",
      "source": [
        "from sklearn.preprocessing import MinMaxScaler\n",
        "from sklearn.preprocessing import PowerTransformer\n",
        "\n",
        "def get_models():\n",
        "  models, names = list(), list()\n",
        "  # LR Balanced\n",
        "  models.append(LogisticRegression(solver='liblinear', class_weight='balanced'))\n",
        "  names.append('Balanced')\n",
        "  # LR Balanced + Normalization\n",
        "  steps = [('t',MinMaxScaler()), ('m', LogisticRegression(solver='liblinear',\n",
        "  class_weight='balanced'))]\n",
        "  models.append(Pipeline(steps=steps))\n",
        "  names.append('Balanced-Norm')\n",
        "  # LR Balanced + Standardization\n",
        "  steps = [('t',StandardScaler()), ('m', LogisticRegression(solver='liblinear',\n",
        "  class_weight='balanced'))]\n",
        "  models.append(Pipeline(steps=steps))\n",
        "  names.append('Balanced-Std')\n",
        "  # LR Balanced + Power\n",
        "  steps = [('t1',MinMaxScaler()), ('t2',PowerTransformer()), ('m',\n",
        "  LogisticRegression(solver='liblinear', class_weight='balanced'))]\n",
        "  models.append(Pipeline(steps=steps))\n",
        "  names.append('Balanced-Power')\n",
        "  return models, names"
      ],
      "metadata": {
        "id": "rOKU-sRSao5L"
      },
      "execution_count": null,
      "outputs": []
    },
    {
      "cell_type": "code",
      "source": [
        "models, names = get_models()\n",
        "results = list()\n",
        "for i in range(len(models)):\n",
        "  scores = evaluate_model(X, y, models[i])\n",
        "  results.append(scores)\n",
        "  print('>%s %.3f (%.3f)' % (names[i], mean(scores), std(scores)))\n",
        "pyplot.boxplot(results, labels=names, showmeans=True)\n",
        "pyplot.show()"
      ],
      "metadata": {
        "colab": {
          "base_uri": "https://localhost:8080/",
          "height": 335
        },
        "id": "szJYZ3j-axtb",
        "outputId": "a145eb9b-d964-490d-f120-e69823a7c63c"
      },
      "execution_count": null,
      "outputs": [
        {
          "output_type": "stream",
          "name": "stdout",
          "text": [
            ">Balanced 0.848 (0.115)\n",
            ">Balanced-Norm 0.836 (0.088)\n",
            ">Balanced-Std 0.834 (0.129)\n",
            ">Balanced-Power 0.862 (0.124)\n"
          ]
        },
        {
          "output_type": "display_data",
          "data": {
            "image/png": "[encoded data removed]",
            "text/plain": [
              "<Figure size 432x288 with 1 Axes>"
            ]
          },
          "metadata": {
            "needs_background": "light"
          }
        }
      ]
    },
    {
      "cell_type": "code",
      "source": [
        "from imblearn.combine import SMOTEENN\n",
        "from imblearn.under_sampling import EditedNearestNeighbours\n",
        "from imblearn.pipeline import Pipeline\n",
        "\n",
        "def get_models():\n",
        "  models, names = list(), list()\n",
        "  # SMOTEENN\n",
        "  sampling = SMOTEENN(enn=EditedNearestNeighbours(sampling_strategy='majority'))\n",
        "  model = LogisticRegression(solver='liblinear')\n",
        "  steps = [('e', sampling), ('m', model)]\n",
        "  models.append(Pipeline(steps=steps))\n",
        "  names.append('LR')\n",
        "  # SMOTEENN + Norm\n",
        "  sampling = SMOTEENN(enn=EditedNearestNeighbours(sampling_strategy='majority'))\n",
        "  model = LogisticRegression(solver='liblinear')\n",
        "  steps = [('t', MinMaxScaler()), ('e', sampling), ('m', model)]\n",
        "  models.append(Pipeline(steps=steps))\n",
        "  names.append('Norm')\n",
        "  # SMOTEENN + Std\n",
        "  sampling = SMOTEENN(enn=EditedNearestNeighbours(sampling_strategy='majority'))\n",
        "  model = LogisticRegression(solver='liblinear')\n",
        "  steps = [('t', StandardScaler()), ('e', sampling), ('m', model)]\n",
        "  models.append(Pipeline(steps=steps))\n",
        "  names.append('Std')\n",
        "  # SMOTEENN + Power\n",
        "  sampling = SMOTEENN(enn=EditedNearestNeighbours(sampling_strategy='majority'))\n",
        "  model = LogisticRegression(solver='liblinear')\n",
        "  steps = [('t1', MinMaxScaler()), ('t2', PowerTransformer()), ('e', sampling), ('m',\n",
        "  model)]\n",
        "  models.append(Pipeline(steps=steps))\n",
        "  names.append('Power')\n",
        "  return models, names"
      ],
      "metadata": {
        "id": "CCX3SBzBa-ar"
      },
      "execution_count": null,
      "outputs": []
    },
    {
      "cell_type": "code",
      "source": [
        "models, names = get_models()\n",
        "results = list()\n",
        "for i in range(len(models)):\n",
        "  scores = evaluate_model(X, y, models[i])\n",
        "  print('>%s %.3f (%.3f)' % (names[i], mean(scores), std(scores)))\n",
        "  results.append(scores)\n",
        "pyplot.boxplot(results, labels=names, showmeans=True)\n",
        "pyplot.show()"
      ],
      "metadata": {
        "colab": {
          "base_uri": "https://localhost:8080/",
          "height": 337
        },
        "id": "6M7dMz_CbNiu",
        "outputId": "acf9a8e0-aef4-47f3-98a0-5a26bd9c1c6b"
      },
      "execution_count": null,
      "outputs": [
        {
          "output_type": "stream",
          "name": "stdout",
          "text": [
            ">LR 0.859 (0.101)\n",
            ">Norm 0.837 (0.094)\n",
            ">Std 0.816 (0.147)\n",
            ">Power 0.877 (0.121)\n"
          ]
        },
        {
          "output_type": "display_data",
          "data": {
            "image/png": "[encoded data removed]",
            "text/plain": [
              "<Figure size 432x288 with 1 Axes>"
            ]
          },
          "metadata": {
            "needs_background": "light"
          }
        }
      ]
    },
    {
      "cell_type": "code",
      "source": [
        "# Finalizing the Model\n",
        "\n",
        "smoteenn = SMOTEENN(enn=EditedNearestNeighbours(sampling_strategy='majority'))\n",
        "model = LogisticRegression(solver='liblinear')\n",
        "pipeline = Pipeline(steps=[('e', smoteenn), ('m', model)])\n",
        "pipeline.fit(X, y)"
      ],
      "metadata": {
        "colab": {
          "base_uri": "https://localhost:8080/"
        },
        "id": "NnXx1nCDcPJF",
        "outputId": "529395a5-2a85-4994-aecc-6741e9a92705"
      },
      "execution_count": null,
      "outputs": [
        {
          "output_type": "execute_result",
          "data": {
            "text/plain": [
              "Pipeline(steps=[('e',\n",
              "                 SMOTEENN(enn=EditedNearestNeighbours(sampling_strategy='majority'))),\n",
              "                ('m', LogisticRegression(solver='liblinear'))])"
            ]
          },
          "metadata": {},
          "execution_count": 36
        }
      ]
    },
    {
      "cell_type": "code",
      "source": [
        "print('Non-Spill Cases:')\n",
        "data = [[329, 1627.54, 1409.43, 51, 822500, 35, 6.1, 4610, 0.17, 178.4, 0.2, 0.24, 0.39,\n",
        "         0.12, 0.27, 138.32, 34.81, 2.02, 0.14, 0.19, 75.26, 0, 0.47, 351.67, 0.18, 9.24, 0.38,\n",
        "         2.57, -2.96, -0.28, 1.93, 0, 1.93, 34, 1710, 0, 25.84, 78, 55, 1460.31, 710.63, 451.78,\n",
        "         150.85, 3.23, 0, 4530.75, 66.25],\n",
        "        [3234, 1091.56, 1357.96, 32, 8085000, 40.08, 8.98, 25450, 0.22, 317.7, 0.18, 0.2, 0.49,\n",
        "         0.09, 0.41, 114.69, 41.87, 2.31, 0.15, 0.18, 75.26, 0, 0.53, 351.67, 0.18, 9.24,\n",
        "         0.24, 3.56, -3.09, -0.31, 2.17, 0, 2.17, 281, 14490, 0, 80.11, 78, 55, 4287.77,\n",
        "         3095.56, 1937.42, 773.69, 2.21, 0, 4927.51, 66.15],\n",
        "        [2339, 1537.68, 1633.02, 45, 5847500, 38.13, 9.29, 22110, 0.24, 264.5, 0.21, 0.26, 0.79,\n",
        "         0.08, 0.71, 89.49, 32.23, 2.2, 0.17, 0.22, 75.26, 0, 0.51, 351.67, 0.18, 9.24, 0.27,\n",
        "         4.21, -2.84, -0.29, 2.16, 0, 2.16, 228, 12150, 0, 83.6, 78, 55, 3959.8, 2404.16,\n",
        "         1530.38, 659.67, 2.59, 0, 4732.04, 66.34]]\n",
        "for row in data:\n",
        "  yhat = pipeline.predict([row])\n",
        "  label = yhat[0]\n",
        "  print('>Predicted=%d (expected 0)' % (label))"
      ],
      "metadata": {
        "colab": {
          "base_uri": "https://localhost:8080/"
        },
        "id": "LsNn_45nctj1",
        "outputId": "21c4f255-9587-4fdd-b683-98995118d8ce"
      },
      "execution_count": null,
      "outputs": [
        {
          "output_type": "stream",
          "name": "stdout",
          "text": [
            "Non-Spill Cases:\n",
            ">Predicted=0 (expected 0)\n",
            ">Predicted=1 (expected 0)\n",
            ">Predicted=1 (expected 0)\n"
          ]
        }
      ]
    },
    {
      "cell_type": "code",
      "source": [
        "print('Spill Cases:')\n",
        "data = [[2971, 1020.91, 630.8, 59, 7427500, 32.76, 10.48, 17380, 0.32, 427.4, 0.22, 0.29,\n",
        "        0.5, 0.08, 0.42, 149.87, 50.99, 1.89, 0.14, 0.18, 75.26, 0, 0.44, 351.67, 0.18, 9.24,\n",
        "        2.5, 10.63, -3.07, -0.28, 2.18, 0, 2.18, 164, 8730, 0, 40.67, 78, 55, 5650.88, 1749.29,\n",
        "        1245.07, 348.7, 4.54, 0, 25579.34, 65.78],\n",
        "        [3155, 1118.08, 469.39, 11, 7887500, 30.41, 7.99, 15880, 0.26, 496.7, 0.2, 0.26, 0.69,\n",
        "        0.11, 0.58, 118.11, 43.96, 1.76, 0.15, 0.18, 75.26, 0, 0.4, 351.67, 0.18, 9.24, 0.78,\n",
        "        8.68, -3.19, -0.33, 2.19, 0, 2.19, 150, 8100, 0, 31.97, 78, 55, 3471.31, 3059.41,\n",
        "        2043.9, 477.23, 1.7, 0, 28172.07, 65.72],\n",
        "        [115, 1449.85, 608.43, 88, 287500, 40.42, 7.34, 3340, 0.18, 86.1, 0.21, 0.32, 0.5, 0.17,\n",
        "        0.34, 71.2, 16.73, 1.82, 0.19, 0.29, 87.65, 0, 0.46, 132.78, -0.01, 3.78, 0.7, 4.79,\n",
        "        -3.36, -0.23, 1.95, 0, 1.95, 29, 1530, 0.01, 38.8, 89, 69, 1400, 250, 150, 45.13,\n",
        "        9.33, 1, 31692.84, 65.81]]\n",
        "for row in data:\n",
        "  yhat = pipeline.predict([row])\n",
        "  label = yhat[0]\n",
        "  print('>Predicted=%d (expected 1)' % (label))"
      ],
      "metadata": {
        "colab": {
          "base_uri": "https://localhost:8080/"
        },
        "id": "Yrri9_ymcmAt",
        "outputId": "1e4b4091-02b0-44d4-8e12-56d8f1c58e68"
      },
      "execution_count": null,
      "outputs": [
        {
          "output_type": "stream",
          "name": "stdout",
          "text": [
            "Spill Cases:\n",
            ">Predicted=0 (expected 1)\n",
            ">Predicted=0 (expected 1)\n",
            ">Predicted=0 (expected 1)\n"
          ]
        }
      ]
    }
  ]
}