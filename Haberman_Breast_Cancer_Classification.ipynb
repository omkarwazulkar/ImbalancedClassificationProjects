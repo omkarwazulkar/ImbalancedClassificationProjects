{
  "nbformat": 4,
  "nbformat_minor": 0,
  "metadata": {
    "colab": {
      "name": "Haberman Breast Cancer Classification.ipynb",
      "provenance": [],
      "mount_file_id": "1qcK9vc9LGTlZf_aZzH-XqbTrZW-F3EZW",
      "authorship_tag": "ABX9TyPfOMn6c7XYgGLK8KtyY0C+",
      "include_colab_link": true
    },
    "kernelspec": {
      "name": "python3",
      "display_name": "Python 3"
    },
    "language_info": {
      "name": "python"
    }
  },
  "cells": [
    {
      "cell_type": "markdown",
      "metadata": {
        "id": "view-in-github",
        "colab_type": "text"
      },
      "source": [
        "<a href=\"https://colab.research.google.com/github/omkarwazulkar/ImbalancedClassificationProjects/blob/main/Haberman_Breast_Cancer_Classification.ipynb\" target=\"_parent\"><img src=\"https://colab.research.google.com/assets/colab-badge.svg\" alt=\"Open In Colab\"/></a>"
      ]
    },
    {
      "cell_type": "code",
      "source": [
        "from google.colab import drive\n",
        "drive.mount('/content/drive')"
      ],
      "metadata": {
        "colab": {
          "base_uri": "https://localhost:8080/"
        },
        "id": "g247a1aNx1ZB",
        "outputId": "ffe08c72-8746-45f4-842c-4329489adf12"
      },
      "execution_count": null,
      "outputs": [
        {
          "output_type": "stream",
          "name": "stdout",
          "text": [
            "Drive already mounted at /content/drive; to attempt to forcibly remount, call drive.mount(\"/content/drive\", force_remount=True).\n"
          ]
        }
      ]
    },
    {
      "cell_type": "code",
      "source": [
        "from pandas import read_csv\n",
        "\n",
        "data = '/content/drive/MyDrive/Dataset/Datasets/haberman.csv'\n",
        "columns = ['Age', 'Year', 'Nodes', 'Class']\n",
        "dataframe = read_csv(data, header = None, names = columns)\n",
        "print(dataframe)"
      ],
      "metadata": {
        "id": "5hWFyk4cyGGv",
        "colab": {
          "base_uri": "https://localhost:8080/"
        },
        "outputId": "ef969a71-1d6e-4d0c-c423-57acdb1fe854"
      },
      "execution_count": null,
      "outputs": [
        {
          "output_type": "stream",
          "name": "stdout",
          "text": [
            "     Age  Year  Nodes  Class\n",
            "0     30    64      1      1\n",
            "1     30    62      3      1\n",
            "2     30    65      0      1\n",
            "3     31    59      2      1\n",
            "4     31    65      4      1\n",
            "..   ...   ...    ...    ...\n",
            "301   75    62      1      1\n",
            "302   76    67      0      1\n",
            "303   77    65      3      1\n",
            "304   78    65      1      2\n",
            "305   83    58      2      2\n",
            "\n",
            "[306 rows x 4 columns]\n"
          ]
        }
      ]
    },
    {
      "cell_type": "code",
      "source": [
        "summary = dataframe.describe()\n",
        "print(summary) "
      ],
      "metadata": {
        "colab": {
          "base_uri": "https://localhost:8080/"
        },
        "id": "Rhl2XiEuylgl",
        "outputId": "93176d13-da31-4e00-aad7-b42fd7bc73e7"
      },
      "execution_count": null,
      "outputs": [
        {
          "output_type": "stream",
          "name": "stdout",
          "text": [
            "              Age        Year       Nodes       Class\n",
            "count  306.000000  306.000000  306.000000  306.000000\n",
            "mean    52.457516   62.852941    4.026144    1.264706\n",
            "std     10.803452    3.249405    7.189654    0.441899\n",
            "min     30.000000   58.000000    0.000000    1.000000\n",
            "25%     44.000000   60.000000    0.000000    1.000000\n",
            "50%     52.000000   63.000000    1.000000    1.000000\n",
            "75%     60.750000   65.750000    4.000000    2.000000\n",
            "max     83.000000   69.000000   52.000000    2.000000\n"
          ]
        }
      ]
    },
    {
      "cell_type": "code",
      "source": [
        "# Plotting Histogram of Each Columns to Find the Distribution\n",
        "from matplotlib import pyplot\n",
        "\n",
        "dataframe.hist()\n",
        "pyplot.show()"
      ],
      "metadata": {
        "colab": {
          "base_uri": "https://localhost:8080/",
          "height": 281
        },
        "id": "mIX3vW5qy3Lo",
        "outputId": "d771cd9a-c723-4329-9662-01946d61102f"
      },
      "execution_count": null,
      "outputs": [
        {
          "output_type": "display_data",
          "data": {
            "image/png": "[encoded data removed]",
            "text/plain": [
              "<Figure size 432x288 with 4 Axes>"
            ]
          },
          "metadata": {
            "needs_background": "light"
          }
        }
      ]
    },
    {
      "cell_type": "code",
      "source": [
        "# Class Distribution\n",
        "from collections import Counter\n",
        "\n",
        "target = dataframe['Class'].values\n",
        "counter = Counter(target)\n",
        "print(counter)\n",
        "for k, v in counter.items() :\n",
        "  per = v / len(target) * 100\n",
        "  print('Class=%d, Count=%d, Percentage=%.3f%%' % (k, v, per))"
      ],
      "metadata": {
        "colab": {
          "base_uri": "https://localhost:8080/"
        },
        "id": "a-tLfez3zMI2",
        "outputId": "76eab9dd-9586-4c09-9e03-5784f25732cb"
      },
      "execution_count": null,
      "outputs": [
        {
          "output_type": "stream",
          "name": "stdout",
          "text": [
            "Counter({1: 225, 2: 81})\n",
            "Class=1, Count=225, Percentage=73.529%\n",
            "Class=2, Count=81, Percentage=26.471%\n"
          ]
        }
      ]
    },
    {
      "cell_type": "code",
      "source": [
        "path = '/content/drive/MyDrive/Dataset/Datasets/haberman.csv'"
      ],
      "metadata": {
        "id": "pCPOE8V0UMZY"
      },
      "execution_count": null,
      "outputs": []
    },
    {
      "cell_type": "code",
      "source": [
        "from pandas import read_csv\n",
        "from sklearn.preprocessing import LabelEncoder\n",
        "\n",
        "def load_dataset(path):\n",
        "  data = read_csv(path, header = None)\n",
        "  data = data.values\n",
        "  X, y = data[:, :-1], data[:, -1]\n",
        "  y = LabelEncoder().fit_transform(y)\n",
        "  return X, y"
      ],
      "metadata": {
        "id": "N6S0MIpTTZk3"
      },
      "execution_count": null,
      "outputs": []
    },
    {
      "cell_type": "code",
      "source": [
        "from sklearn.metrics import brier_score_loss\n",
        "\n",
        "def brier_score(y_true, y_prob):\n",
        "  ref_prob = [0.26471 for _ in range (len(y_true))]\n",
        "  bs_ref = brier_score_loss(y_true, ref_prob)\n",
        "  bs_model = brier_score_loss(y_true, y_prob)\n",
        "  return 1.0 - (bs_model / bs_ref)"
      ],
      "metadata": {
        "id": "WuM8GacbTnai"
      },
      "execution_count": null,
      "outputs": []
    },
    {
      "cell_type": "code",
      "source": [
        "from sklearn.model_selection import RepeatedStratifiedKFold\n",
        "from sklearn.metrics import make_scorer\n",
        "from sklearn.model_selection import cross_val_score\n",
        "\n",
        "def evaluate_model(X, y, model):\n",
        "  cv = RepeatedStratifiedKFold(n_splits = 10, n_repeats = 3, random_state = 1)\n",
        "  metric = make_scorer(brier_score, needs_proba = True)\n",
        "  scores = cross_val_score(model, X, y, scoring = metric, cv = cv, n_jobs = 1)\n",
        "  return scores"
      ],
      "metadata": {
        "id": "-k9E1YIDT18r"
      },
      "execution_count": null,
      "outputs": []
    },
    {
      "cell_type": "code",
      "source": [
        "from collections import Counter\n",
        "from sklearn.dummy import DummyClassifier\n",
        "from numpy import std\n",
        "from numpy import mean\n",
        "\n",
        "X, y = load_dataset(path)\n",
        "print(X, y)\n",
        "print(X.shape, y.shape, Counter(y))\n",
        "model = DummyClassifier(strategy = 'prior')\n",
        "scores = evaluate_model(X, y, model)\n",
        "print('Mean BSS: %.3f (%.3f)' % (mean(scores), std(scores)))"
      ],
      "metadata": {
        "colab": {
          "base_uri": "https://localhost:8080/"
        },
        "id": "oeiUxjr61-x9",
        "outputId": "c305e0ff-e545-45c0-a96e-e5211a88c85e"
      },
      "execution_count": null,
      "outputs": [
        {
          "output_type": "stream",
          "name": "stdout",
          "text": [
            "[[30 64  1]\n",
            " [30 62  3]\n",
            " [30 65  0]\n",
            " [31 59  2]\n",
            " [31 65  4]\n",
            " [33 58 10]\n",
            " [33 60  0]\n",
            " [34 59  0]\n",
            " [34 66  9]\n",
            " [34 58 30]\n",
            " [34 60  1]\n",
            " [34 61 10]\n",
            " [34 67  7]\n",
            " [34 60  0]\n",
            " [35 64 13]\n",
            " [35 63  0]\n",
            " [36 60  1]\n",
            " [36 69  0]\n",
            " [37 60  0]\n",
            " [37 63  0]\n",
            " [37 58  0]\n",
            " [37 59  6]\n",
            " [37 60 15]\n",
            " [37 63  0]\n",
            " [38 69 21]\n",
            " [38 59  2]\n",
            " [38 60  0]\n",
            " [38 60  0]\n",
            " [38 62  3]\n",
            " [38 64  1]\n",
            " [38 66  0]\n",
            " [38 66 11]\n",
            " [38 60  1]\n",
            " [38 67  5]\n",
            " [39 66  0]\n",
            " [39 63  0]\n",
            " [39 67  0]\n",
            " [39 58  0]\n",
            " [39 59  2]\n",
            " [39 63  4]\n",
            " [40 58  2]\n",
            " [40 58  0]\n",
            " [40 65  0]\n",
            " [41 60 23]\n",
            " [41 64  0]\n",
            " [41 67  0]\n",
            " [41 58  0]\n",
            " [41 59  8]\n",
            " [41 59  0]\n",
            " [41 64  0]\n",
            " [41 69  8]\n",
            " [41 65  0]\n",
            " [41 65  0]\n",
            " [42 69  1]\n",
            " [42 59  0]\n",
            " [42 58  0]\n",
            " [42 60  1]\n",
            " [42 59  2]\n",
            " [42 61  4]\n",
            " [42 62 20]\n",
            " [42 65  0]\n",
            " [42 63  1]\n",
            " [43 58 52]\n",
            " [43 59  2]\n",
            " [43 64  0]\n",
            " [43 64  0]\n",
            " [43 63 14]\n",
            " [43 64  2]\n",
            " [43 64  3]\n",
            " [43 60  0]\n",
            " [43 63  2]\n",
            " [43 65  0]\n",
            " [43 66  4]\n",
            " [44 64  6]\n",
            " [44 58  9]\n",
            " [44 63 19]\n",
            " [44 61  0]\n",
            " [44 63  1]\n",
            " [44 61  0]\n",
            " [44 67 16]\n",
            " [45 65  6]\n",
            " [45 66  0]\n",
            " [45 67  1]\n",
            " [45 60  0]\n",
            " [45 67  0]\n",
            " [45 59 14]\n",
            " [45 64  0]\n",
            " [45 68  0]\n",
            " [45 67  1]\n",
            " [46 58  2]\n",
            " [46 69  3]\n",
            " [46 62  5]\n",
            " [46 65 20]\n",
            " [46 62  0]\n",
            " [46 58  3]\n",
            " [46 63  0]\n",
            " [47 63 23]\n",
            " [47 62  0]\n",
            " [47 65  0]\n",
            " [47 61  0]\n",
            " [47 63  6]\n",
            " [47 66  0]\n",
            " [47 67  0]\n",
            " [47 58  3]\n",
            " [47 60  4]\n",
            " [47 68  4]\n",
            " [47 66 12]\n",
            " [48 58 11]\n",
            " [48 58 11]\n",
            " [48 67  7]\n",
            " [48 61  8]\n",
            " [48 62  2]\n",
            " [48 64  0]\n",
            " [48 66  0]\n",
            " [49 63  0]\n",
            " [49 64 10]\n",
            " [49 61  1]\n",
            " [49 62  0]\n",
            " [49 66  0]\n",
            " [49 60  1]\n",
            " [49 62  1]\n",
            " [49 63  3]\n",
            " [49 61  0]\n",
            " [49 67  1]\n",
            " [50 63 13]\n",
            " [50 64  0]\n",
            " [50 59  0]\n",
            " [50 61  6]\n",
            " [50 61  0]\n",
            " [50 63  1]\n",
            " [50 58  1]\n",
            " [50 59  2]\n",
            " [50 61  0]\n",
            " [50 64  0]\n",
            " [50 65  4]\n",
            " [50 66  1]\n",
            " [51 59 13]\n",
            " [51 59  3]\n",
            " [51 64  7]\n",
            " [51 59  1]\n",
            " [51 65  0]\n",
            " [51 66  1]\n",
            " [52 69  3]\n",
            " [52 59  2]\n",
            " [52 62  3]\n",
            " [52 66  4]\n",
            " [52 61  0]\n",
            " [52 63  4]\n",
            " [52 69  0]\n",
            " [52 60  4]\n",
            " [52 60  5]\n",
            " [52 62  0]\n",
            " [52 62  1]\n",
            " [52 64  0]\n",
            " [52 65  0]\n",
            " [52 68  0]\n",
            " [53 58  4]\n",
            " [53 65  1]\n",
            " [53 59  3]\n",
            " [53 60  9]\n",
            " [53 63 24]\n",
            " [53 65 12]\n",
            " [53 58  1]\n",
            " [53 60  1]\n",
            " [53 60  2]\n",
            " [53 61  1]\n",
            " [53 63  0]\n",
            " [54 60 11]\n",
            " [54 65 23]\n",
            " [54 65  5]\n",
            " [54 68  7]\n",
            " [54 59  7]\n",
            " [54 60  3]\n",
            " [54 66  0]\n",
            " [54 67 46]\n",
            " [54 62  0]\n",
            " [54 69  7]\n",
            " [54 63 19]\n",
            " [54 58  1]\n",
            " [54 62  0]\n",
            " [55 63  6]\n",
            " [55 68 15]\n",
            " [55 58  1]\n",
            " [55 58  0]\n",
            " [55 58  1]\n",
            " [55 66 18]\n",
            " [55 66  0]\n",
            " [55 69  3]\n",
            " [55 69 22]\n",
            " [55 67  1]\n",
            " [56 65  9]\n",
            " [56 66  3]\n",
            " [56 60  0]\n",
            " [56 66  2]\n",
            " [56 66  1]\n",
            " [56 67  0]\n",
            " [56 60  0]\n",
            " [57 61  5]\n",
            " [57 62 14]\n",
            " [57 64  1]\n",
            " [57 64  9]\n",
            " [57 69  0]\n",
            " [57 61  0]\n",
            " [57 62  0]\n",
            " [57 63  0]\n",
            " [57 64  0]\n",
            " [57 64  0]\n",
            " [57 67  0]\n",
            " [58 59  0]\n",
            " [58 60  3]\n",
            " [58 61  1]\n",
            " [58 67  0]\n",
            " [58 58  0]\n",
            " [58 58  3]\n",
            " [58 61  2]\n",
            " [59 62 35]\n",
            " [59 60  0]\n",
            " [59 63  0]\n",
            " [59 64  1]\n",
            " [59 64  4]\n",
            " [59 64  0]\n",
            " [59 64  7]\n",
            " [59 67  3]\n",
            " [60 59 17]\n",
            " [60 65  0]\n",
            " [60 61  1]\n",
            " [60 67  2]\n",
            " [60 61 25]\n",
            " [60 64  0]\n",
            " [61 62  5]\n",
            " [61 65  0]\n",
            " [61 68  1]\n",
            " [61 59  0]\n",
            " [61 59  0]\n",
            " [61 64  0]\n",
            " [61 65  8]\n",
            " [61 68  0]\n",
            " [61 59  0]\n",
            " [62 59 13]\n",
            " [62 58  0]\n",
            " [62 65 19]\n",
            " [62 62  6]\n",
            " [62 66  0]\n",
            " [62 66  0]\n",
            " [62 58  0]\n",
            " [63 60  1]\n",
            " [63 61  0]\n",
            " [63 62  0]\n",
            " [63 63  0]\n",
            " [63 63  0]\n",
            " [63 66  0]\n",
            " [63 61  9]\n",
            " [63 61 28]\n",
            " [64 58  0]\n",
            " [64 65 22]\n",
            " [64 66  0]\n",
            " [64 61  0]\n",
            " [64 68  0]\n",
            " [65 58  0]\n",
            " [65 61  2]\n",
            " [65 62 22]\n",
            " [65 66 15]\n",
            " [65 58  0]\n",
            " [65 64  0]\n",
            " [65 67  0]\n",
            " [65 59  2]\n",
            " [65 64  0]\n",
            " [65 67  1]\n",
            " [66 58  0]\n",
            " [66 61 13]\n",
            " [66 58  0]\n",
            " [66 58  1]\n",
            " [66 68  0]\n",
            " [67 64  8]\n",
            " [67 63  1]\n",
            " [67 66  0]\n",
            " [67 66  0]\n",
            " [67 61  0]\n",
            " [67 65  0]\n",
            " [68 67  0]\n",
            " [68 68  0]\n",
            " [69 67  8]\n",
            " [69 60  0]\n",
            " [69 65  0]\n",
            " [69 66  0]\n",
            " [70 58  0]\n",
            " [70 58  4]\n",
            " [70 66 14]\n",
            " [70 67  0]\n",
            " [70 68  0]\n",
            " [70 59  8]\n",
            " [70 63  0]\n",
            " [71 68  2]\n",
            " [72 63  0]\n",
            " [72 58  0]\n",
            " [72 64  0]\n",
            " [72 67  3]\n",
            " [73 62  0]\n",
            " [73 68  0]\n",
            " [74 65  3]\n",
            " [74 63  0]\n",
            " [75 62  1]\n",
            " [76 67  0]\n",
            " [77 65  3]\n",
            " [78 65  1]\n",
            " [83 58  2]] [0 0 0 0 0 0 0 1 1 0 0 0 0 0 0 0 0 0 0 0 0 0 0 0 1 0 0 0 0 0 0 0 0 0 1 0 0\n",
            " 0 0 0 0 0 0 1 1 1 0 0 0 0 0 0 0 1 1 0 0 0 0 0 0 0 1 1 1 1 0 0 0 0 0 0 0 1\n",
            " 1 1 0 0 0 0 1 1 1 0 0 0 0 0 0 1 1 1 1 0 0 0 1 1 1 0 0 0 0 0 0 0 0 1 1 1 0\n",
            " 0 0 0 1 1 0 0 0 0 0 0 0 0 1 1 0 0 0 0 0 0 0 0 0 0 1 1 0 0 0 0 1 1 1 1 0 0\n",
            " 0 0 0 0 0 0 0 0 1 1 1 1 1 1 0 0 0 0 0 1 1 1 1 0 0 0 0 0 0 0 0 0 1 1 0 0 0\n",
            " 0 0 0 0 0 1 1 0 0 0 0 0 1 1 1 0 0 0 0 0 0 0 0 0 0 0 0 0 0 0 1 0 0 0 0 0 0\n",
            " 0 1 1 0 0 0 0 1 1 1 0 0 0 0 0 0 1 1 1 0 0 0 0 1 0 0 0 0 0 0 0 0 0 0 0 0 1\n",
            " 1 1 1 0 0 0 0 0 0 1 1 0 0 0 1 1 0 0 0 0 0 0 1 0 0 0 1 1 0 0 0 0 0 0 1 0 0\n",
            " 0 0 0 1 0 0 0 0 1 1]\n",
            "(306, 3) (306,) Counter({0: 225, 1: 81})\n",
            "Mean BSS: -0.000 (0.000)\n"
          ]
        }
      ]
    },
    {
      "cell_type": "code",
      "source": [
        "from sklearn.linear_model import LogisticRegression\n",
        "from sklearn.discriminant_analysis import LinearDiscriminantAnalysis\n",
        "from sklearn.discriminant_analysis import QuadraticDiscriminantAnalysis\n",
        "from sklearn.naive_bayes import GaussianNB\n",
        "from sklearn.naive_bayes import MultinomialNB\n",
        "from sklearn.gaussian_process import GaussianProcessClassifier\n",
        "\n",
        "def get_models():\n",
        "  models, names = list(), list()\n",
        "  # LR\n",
        "  models.append(LogisticRegression(solver='lbfgs'))\n",
        "  names.append('LR')\n",
        "  # LDA\n",
        "  models.append(LinearDiscriminantAnalysis())\n",
        "  names.append('LDA')\n",
        "  # QDA\n",
        "  models.append(QuadraticDiscriminantAnalysis())\n",
        "  names.append('QDA')\n",
        "  # GNB\n",
        "  models.append(GaussianNB())\n",
        "  names.append('GNB')\n",
        "  # MNB\n",
        "  models.append(MultinomialNB())\n",
        "  names.append('MNB')\n",
        "  # GPC\n",
        "  models.append(GaussianProcessClassifier())\n",
        "  names.append('GPC')\n",
        "  return models, names"
      ],
      "metadata": {
        "id": "nGBAz2tiUexj"
      },
      "execution_count": null,
      "outputs": []
    },
    {
      "cell_type": "code",
      "source": [
        "models, names = get_models()\n",
        "print(models, names)\n",
        "\n",
        "results = list()\n",
        "for i in range(len(models)):\n",
        "  scores = evaluate_model(X, y, models[i])\n",
        "  results.append(scores)\n",
        "  print('>%s %.3f (%.3f)' % (names[i], mean(scores), std(scores)))\n",
        "\n",
        "pyplot.boxplot(results, labels = names, showmeans = True)\n",
        "pyplot.show()"
      ],
      "metadata": {
        "colab": {
          "base_uri": "https://localhost:8080/",
          "height": 407
        },
        "id": "GuCqDeqY9GBC",
        "outputId": "6c183c9f-98da-4063-8861-52c484325e92"
      },
      "execution_count": null,
      "outputs": [
        {
          "output_type": "stream",
          "name": "stdout",
          "text": [
            "[LogisticRegression(), LinearDiscriminantAnalysis(), QuadraticDiscriminantAnalysis(), GaussianNB(), MultinomialNB(), GaussianProcessClassifier()] ['LR', 'LDA', 'QDA', 'GNB', 'MNB', 'GPC']\n",
            ">LR 0.060 (0.143)\n",
            ">LDA 0.064 (0.154)\n",
            ">QDA 0.027 (0.221)\n",
            ">GNB 0.012 (0.212)\n",
            ">MNB -0.211 (0.369)\n",
            ">GPC -0.142 (0.041)\n"
          ]
        },
        {
          "output_type": "display_data",
          "data": {
            "image/png": "[encoded data removed]",
            "text/plain": [
              "<Figure size 432x288 with 1 Axes>"
            ]
          },
          "metadata": {
            "needs_background": "light"
          }
        }
      ]
    },
    {
      "cell_type": "code",
      "source": [
        "def get_models():\n",
        "  models, names = list(), list()\n",
        "  # LR\n",
        "  models.append(LogisticRegression(solver='lbfgs'))\n",
        "  names.append('LR')\n",
        "  # LDA\n",
        "  models.append(LinearDiscriminantAnalysis())\n",
        "  names.append('LDA')\n",
        "  # QDA\n",
        "  models.append(QuadraticDiscriminantAnalysis())\n",
        "  names.append('QDA')\n",
        "  # GNB\n",
        "  models.append(GaussianNB())\n",
        "  names.append('GNB')\n",
        "  # GPC\n",
        "  models.append(GaussianProcessClassifier())\n",
        "  names.append('GPC')\n",
        "  return models, names"
      ],
      "metadata": {
        "id": "xlKYdcK5UwBX"
      },
      "execution_count": null,
      "outputs": []
    },
    {
      "cell_type": "code",
      "source": [
        "from sklearn.pipeline import Pipeline\n",
        "from sklearn.preprocessing import StandardScaler\n",
        "\n",
        "models, names = get_models()\n",
        "results = list()\n",
        "\n",
        "for i in range(len(models)):\n",
        "  pipeline = Pipeline(steps = [('t', StandardScaler()), ('m', models[i])])\n",
        "  scores = evaluate_model(X, y, pipeline)\n",
        "  results.append(scores)\n",
        "  print('>%s %.3f (%.3f)' % (names[i], mean(scores), std(scores)))\n",
        "\n",
        "pyplot.boxplot(results, labels=names, showmeans=True)\n",
        "pyplot.show()"
      ],
      "metadata": {
        "colab": {
          "base_uri": "https://localhost:8080/",
          "height": 352
        },
        "id": "27gAtEfhH73N",
        "outputId": "0a082da1-631c-4790-da2c-58cc00ed182e"
      },
      "execution_count": null,
      "outputs": [
        {
          "output_type": "stream",
          "name": "stdout",
          "text": [
            ">LR 0.062 (0.140)\n",
            ">LDA 0.064 (0.154)\n",
            ">QDA 0.027 (0.221)\n",
            ">GNB 0.012 (0.212)\n",
            ">GPC 0.097 (0.133)\n"
          ]
        },
        {
          "output_type": "display_data",
          "data": {
            "image/png": "[encoded data removed]",
            "text/plain": [
              "<Figure size 432x288 with 1 Axes>"
            ]
          },
          "metadata": {
            "needs_background": "light"
          }
        }
      ]
    },
    {
      "cell_type": "code",
      "source": [
        "def get_models():\n",
        "  models, names = list(), list()\n",
        "  # LR\n",
        "  models.append(LogisticRegression(solver='lbfgs'))\n",
        "  names.append('LR')\n",
        "  # LDA\n",
        "  models.append(LinearDiscriminantAnalysis())\n",
        "  names.append('LDA')\n",
        "  # GPC\n",
        "  models.append(GaussianProcessClassifier())\n",
        "  names.append('GPC')\n",
        "  return models, names"
      ],
      "metadata": {
        "id": "BuP8CwF8U4e0"
      },
      "execution_count": null,
      "outputs": []
    },
    {
      "cell_type": "code",
      "source": [
        "from sklearn.preprocessing import MinMaxScaler\n",
        "from sklearn.preprocessing import PowerTransformer\n",
        "\n",
        "models, names = get_models()\n",
        "results = list()\n",
        "\n",
        "for i in range(len(models)):\n",
        "  steps = [('t1', MinMaxScaler()), ('t2', PowerTransformer()),('m',models[i])]\n",
        "  pipeline = Pipeline(steps=steps)\n",
        "  scores = evaluate_model(X, y, pipeline)\n",
        "  results.append(scores)\n",
        "  print('>%s %.3f (%.3f)' % (names[i], mean(scores), std(scores)))\n",
        "# plot the results\n",
        "pyplot.boxplot(results, labels=names, showmeans=True)\n",
        "pyplot.show()"
      ],
      "metadata": {
        "colab": {
          "base_uri": "https://localhost:8080/",
          "height": 317
        },
        "id": "53tlTHKpKGxQ",
        "outputId": "6b02018e-8c1d-47b2-8e68-3cc6502000ad"
      },
      "execution_count": null,
      "outputs": [
        {
          "output_type": "stream",
          "name": "stdout",
          "text": [
            ">LR 0.110 (0.142)\n",
            ">LDA 0.107 (0.164)\n",
            ">GPC 0.100 (0.130)\n"
          ]
        },
        {
          "output_type": "display_data",
          "data": {
            "image/png": "[encoded data removed]",
            "text/plain": [
              "<Figure size 432x288 with 1 Axes>"
            ]
          },
          "metadata": {
            "needs_background": "light"
          }
        }
      ]
    },
    {
      "cell_type": "code",
      "source": [
        "from pandas import read_csv\n",
        "from sklearn.preprocessing import LabelEncoder\n",
        "from sklearn.linear_model import LogisticRegression\n",
        "from sklearn.pipeline import Pipeline\n",
        "from sklearn.preprocessing import PowerTransformer\n",
        "from sklearn.preprocessing import MinMaxScaler\n",
        "\n",
        "def load_dataset(full_path):\n",
        "  data = read_csv(full_path, header=None)\n",
        "  data = data.values\n",
        "  X, y = data[:, :-1], data[:, -1]\n",
        "  y = LabelEncoder().fit_transform(y)\n",
        "  return X, y\n",
        "\n",
        "full_path = '/content/drive/MyDrive/Dataset/Datasets/haberman.csv'\n",
        "X, y = load_dataset(full_path)\n",
        "steps = [('t1', MinMaxScaler()),('t2', PowerTransformer()),('m',LogisticRegression(solver='lbfgs'))]\n",
        "model = Pipeline(steps=steps)\n",
        "model.fit(X, y)\n",
        "print(X, y)\n",
        "print(model)"
      ],
      "metadata": {
        "colab": {
          "base_uri": "https://localhost:8080/"
        },
        "id": "RiM5NqMBLKUc",
        "outputId": "81da1950-d636-44ce-ac53-fd2937fb721e"
      },
      "execution_count": null,
      "outputs": [
        {
          "output_type": "stream",
          "name": "stdout",
          "text": [
            "[[30 64  1]\n",
            " [30 62  3]\n",
            " [30 65  0]\n",
            " [31 59  2]\n",
            " [31 65  4]\n",
            " [33 58 10]\n",
            " [33 60  0]\n",
            " [34 59  0]\n",
            " [34 66  9]\n",
            " [34 58 30]\n",
            " [34 60  1]\n",
            " [34 61 10]\n",
            " [34 67  7]\n",
            " [34 60  0]\n",
            " [35 64 13]\n",
            " [35 63  0]\n",
            " [36 60  1]\n",
            " [36 69  0]\n",
            " [37 60  0]\n",
            " [37 63  0]\n",
            " [37 58  0]\n",
            " [37 59  6]\n",
            " [37 60 15]\n",
            " [37 63  0]\n",
            " [38 69 21]\n",
            " [38 59  2]\n",
            " [38 60  0]\n",
            " [38 60  0]\n",
            " [38 62  3]\n",
            " [38 64  1]\n",
            " [38 66  0]\n",
            " [38 66 11]\n",
            " [38 60  1]\n",
            " [38 67  5]\n",
            " [39 66  0]\n",
            " [39 63  0]\n",
            " [39 67  0]\n",
            " [39 58  0]\n",
            " [39 59  2]\n",
            " [39 63  4]\n",
            " [40 58  2]\n",
            " [40 58  0]\n",
            " [40 65  0]\n",
            " [41 60 23]\n",
            " [41 64  0]\n",
            " [41 67  0]\n",
            " [41 58  0]\n",
            " [41 59  8]\n",
            " [41 59  0]\n",
            " [41 64  0]\n",
            " [41 69  8]\n",
            " [41 65  0]\n",
            " [41 65  0]\n",
            " [42 69  1]\n",
            " [42 59  0]\n",
            " [42 58  0]\n",
            " [42 60  1]\n",
            " [42 59  2]\n",
            " [42 61  4]\n",
            " [42 62 20]\n",
            " [42 65  0]\n",
            " [42 63  1]\n",
            " [43 58 52]\n",
            " [43 59  2]\n",
            " [43 64  0]\n",
            " [43 64  0]\n",
            " [43 63 14]\n",
            " [43 64  2]\n",
            " [43 64  3]\n",
            " [43 60  0]\n",
            " [43 63  2]\n",
            " [43 65  0]\n",
            " [43 66  4]\n",
            " [44 64  6]\n",
            " [44 58  9]\n",
            " [44 63 19]\n",
            " [44 61  0]\n",
            " [44 63  1]\n",
            " [44 61  0]\n",
            " [44 67 16]\n",
            " [45 65  6]\n",
            " [45 66  0]\n",
            " [45 67  1]\n",
            " [45 60  0]\n",
            " [45 67  0]\n",
            " [45 59 14]\n",
            " [45 64  0]\n",
            " [45 68  0]\n",
            " [45 67  1]\n",
            " [46 58  2]\n",
            " [46 69  3]\n",
            " [46 62  5]\n",
            " [46 65 20]\n",
            " [46 62  0]\n",
            " [46 58  3]\n",
            " [46 63  0]\n",
            " [47 63 23]\n",
            " [47 62  0]\n",
            " [47 65  0]\n",
            " [47 61  0]\n",
            " [47 63  6]\n",
            " [47 66  0]\n",
            " [47 67  0]\n",
            " [47 58  3]\n",
            " [47 60  4]\n",
            " [47 68  4]\n",
            " [47 66 12]\n",
            " [48 58 11]\n",
            " [48 58 11]\n",
            " [48 67  7]\n",
            " [48 61  8]\n",
            " [48 62  2]\n",
            " [48 64  0]\n",
            " [48 66  0]\n",
            " [49 63  0]\n",
            " [49 64 10]\n",
            " [49 61  1]\n",
            " [49 62  0]\n",
            " [49 66  0]\n",
            " [49 60  1]\n",
            " [49 62  1]\n",
            " [49 63  3]\n",
            " [49 61  0]\n",
            " [49 67  1]\n",
            " [50 63 13]\n",
            " [50 64  0]\n",
            " [50 59  0]\n",
            " [50 61  6]\n",
            " [50 61  0]\n",
            " [50 63  1]\n",
            " [50 58  1]\n",
            " [50 59  2]\n",
            " [50 61  0]\n",
            " [50 64  0]\n",
            " [50 65  4]\n",
            " [50 66  1]\n",
            " [51 59 13]\n",
            " [51 59  3]\n",
            " [51 64  7]\n",
            " [51 59  1]\n",
            " [51 65  0]\n",
            " [51 66  1]\n",
            " [52 69  3]\n",
            " [52 59  2]\n",
            " [52 62  3]\n",
            " [52 66  4]\n",
            " [52 61  0]\n",
            " [52 63  4]\n",
            " [52 69  0]\n",
            " [52 60  4]\n",
            " [52 60  5]\n",
            " [52 62  0]\n",
            " [52 62  1]\n",
            " [52 64  0]\n",
            " [52 65  0]\n",
            " [52 68  0]\n",
            " [53 58  4]\n",
            " [53 65  1]\n",
            " [53 59  3]\n",
            " [53 60  9]\n",
            " [53 63 24]\n",
            " [53 65 12]\n",
            " [53 58  1]\n",
            " [53 60  1]\n",
            " [53 60  2]\n",
            " [53 61  1]\n",
            " [53 63  0]\n",
            " [54 60 11]\n",
            " [54 65 23]\n",
            " [54 65  5]\n",
            " [54 68  7]\n",
            " [54 59  7]\n",
            " [54 60  3]\n",
            " [54 66  0]\n",
            " [54 67 46]\n",
            " [54 62  0]\n",
            " [54 69  7]\n",
            " [54 63 19]\n",
            " [54 58  1]\n",
            " [54 62  0]\n",
            " [55 63  6]\n",
            " [55 68 15]\n",
            " [55 58  1]\n",
            " [55 58  0]\n",
            " [55 58  1]\n",
            " [55 66 18]\n",
            " [55 66  0]\n",
            " [55 69  3]\n",
            " [55 69 22]\n",
            " [55 67  1]\n",
            " [56 65  9]\n",
            " [56 66  3]\n",
            " [56 60  0]\n",
            " [56 66  2]\n",
            " [56 66  1]\n",
            " [56 67  0]\n",
            " [56 60  0]\n",
            " [57 61  5]\n",
            " [57 62 14]\n",
            " [57 64  1]\n",
            " [57 64  9]\n",
            " [57 69  0]\n",
            " [57 61  0]\n",
            " [57 62  0]\n",
            " [57 63  0]\n",
            " [57 64  0]\n",
            " [57 64  0]\n",
            " [57 67  0]\n",
            " [58 59  0]\n",
            " [58 60  3]\n",
            " [58 61  1]\n",
            " [58 67  0]\n",
            " [58 58  0]\n",
            " [58 58  3]\n",
            " [58 61  2]\n",
            " [59 62 35]\n",
            " [59 60  0]\n",
            " [59 63  0]\n",
            " [59 64  1]\n",
            " [59 64  4]\n",
            " [59 64  0]\n",
            " [59 64  7]\n",
            " [59 67  3]\n",
            " [60 59 17]\n",
            " [60 65  0]\n",
            " [60 61  1]\n",
            " [60 67  2]\n",
            " [60 61 25]\n",
            " [60 64  0]\n",
            " [61 62  5]\n",
            " [61 65  0]\n",
            " [61 68  1]\n",
            " [61 59  0]\n",
            " [61 59  0]\n",
            " [61 64  0]\n",
            " [61 65  8]\n",
            " [61 68  0]\n",
            " [61 59  0]\n",
            " [62 59 13]\n",
            " [62 58  0]\n",
            " [62 65 19]\n",
            " [62 62  6]\n",
            " [62 66  0]\n",
            " [62 66  0]\n",
            " [62 58  0]\n",
            " [63 60  1]\n",
            " [63 61  0]\n",
            " [63 62  0]\n",
            " [63 63  0]\n",
            " [63 63  0]\n",
            " [63 66  0]\n",
            " [63 61  9]\n",
            " [63 61 28]\n",
            " [64 58  0]\n",
            " [64 65 22]\n",
            " [64 66  0]\n",
            " [64 61  0]\n",
            " [64 68  0]\n",
            " [65 58  0]\n",
            " [65 61  2]\n",
            " [65 62 22]\n",
            " [65 66 15]\n",
            " [65 58  0]\n",
            " [65 64  0]\n",
            " [65 67  0]\n",
            " [65 59  2]\n",
            " [65 64  0]\n",
            " [65 67  1]\n",
            " [66 58  0]\n",
            " [66 61 13]\n",
            " [66 58  0]\n",
            " [66 58  1]\n",
            " [66 68  0]\n",
            " [67 64  8]\n",
            " [67 63  1]\n",
            " [67 66  0]\n",
            " [67 66  0]\n",
            " [67 61  0]\n",
            " [67 65  0]\n",
            " [68 67  0]\n",
            " [68 68  0]\n",
            " [69 67  8]\n",
            " [69 60  0]\n",
            " [69 65  0]\n",
            " [69 66  0]\n",
            " [70 58  0]\n",
            " [70 58  4]\n",
            " [70 66 14]\n",
            " [70 67  0]\n",
            " [70 68  0]\n",
            " [70 59  8]\n",
            " [70 63  0]\n",
            " [71 68  2]\n",
            " [72 63  0]\n",
            " [72 58  0]\n",
            " [72 64  0]\n",
            " [72 67  3]\n",
            " [73 62  0]\n",
            " [73 68  0]\n",
            " [74 65  3]\n",
            " [74 63  0]\n",
            " [75 62  1]\n",
            " [76 67  0]\n",
            " [77 65  3]\n",
            " [78 65  1]\n",
            " [83 58  2]] [0 0 0 0 0 0 0 1 1 0 0 0 0 0 0 0 0 0 0 0 0 0 0 0 1 0 0 0 0 0 0 0 0 0 1 0 0\n",
            " 0 0 0 0 0 0 1 1 1 0 0 0 0 0 0 0 1 1 0 0 0 0 0 0 0 1 1 1 1 0 0 0 0 0 0 0 1\n",
            " 1 1 0 0 0 0 1 1 1 0 0 0 0 0 0 1 1 1 1 0 0 0 1 1 1 0 0 0 0 0 0 0 0 1 1 1 0\n",
            " 0 0 0 1 1 0 0 0 0 0 0 0 0 1 1 0 0 0 0 0 0 0 0 0 0 1 1 0 0 0 0 1 1 1 1 0 0\n",
            " 0 0 0 0 0 0 0 0 1 1 1 1 1 1 0 0 0 0 0 1 1 1 1 0 0 0 0 0 0 0 0 0 1 1 0 0 0\n",
            " 0 0 0 0 0 1 1 0 0 0 0 0 1 1 1 0 0 0 0 0 0 0 0 0 0 0 0 0 0 0 1 0 0 0 0 0 0\n",
            " 0 1 1 0 0 0 0 1 1 1 0 0 0 0 0 0 1 1 1 0 0 0 0 1 0 0 0 0 0 0 0 0 0 0 0 0 1\n",
            " 1 1 1 0 0 0 0 0 0 1 1 0 0 0 1 1 0 0 0 0 0 0 1 0 0 0 1 1 0 0 0 0 0 0 1 0 0\n",
            " 0 0 0 1 0 0 0 0 1 1]\n",
            "Pipeline(steps=[('t1', MinMaxScaler()), ('t2', PowerTransformer()),\n",
            "                ('m', LogisticRegression())])\n"
          ]
        }
      ]
    },
    {
      "cell_type": "code",
      "source": [
        "print('Survival Cases:')\n",
        "data = [[31,59,2], [31,65,4], [34,60,1]]\n",
        "for row in data:\n",
        "  yhat = model.predict_proba([row])\n",
        "  p_survive = yhat[0, 0] * 100\n",
        "  print('>data=%s, Survival=%.3f%%' % (row, p_survive))\n"
      ],
      "metadata": {
        "colab": {
          "base_uri": "https://localhost:8080/"
        },
        "id": "ZtTUp2r4N-Cj",
        "outputId": "7db167fc-00cd-4034-942c-348c1198566d"
      },
      "execution_count": null,
      "outputs": [
        {
          "output_type": "stream",
          "name": "stdout",
          "text": [
            "Survival Cases:\n",
            ">data=[31, 59, 2], Survival=83.597%\n",
            ">data=[31, 65, 4], Survival=77.264%\n",
            ">data=[34, 60, 1], Survival=86.776%\n"
          ]
        }
      ]
    },
    {
      "cell_type": "code",
      "source": [
        "print('Non Survival Cases:')\n",
        "data = [[44,64,6], [34,66,9], [38,69,21]]\n",
        "for row in data:\n",
        "  yhat = model.predict_proba([row])\n",
        "  p_survive = yhat[0, 0] * 100\n",
        "  print('>data=%s, Non Survival=%.3f%%' % (row, p_survive))"
      ],
      "metadata": {
        "colab": {
          "base_uri": "https://localhost:8080/"
        },
        "id": "_d7bHTDvOBB5",
        "outputId": "d8d70857-ceef-44cd-d1d8-25d8e30bba7f"
      },
      "execution_count": null,
      "outputs": [
        {
          "output_type": "stream",
          "name": "stdout",
          "text": [
            "Non Survival Cases:\n",
            ">data=[44, 64, 6], Non Survival=63.092%\n",
            ">data=[34, 66, 9], Non Survival=63.452%\n",
            ">data=[38, 69, 21], Non Survival=53.389%\n"
          ]
        }
      ]
    }
  ]
}